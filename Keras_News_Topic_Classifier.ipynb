{
  "nbformat": 4,
  "nbformat_minor": 0,
  "metadata": {
    "colab": {
      "name": "Keras_News_Topic_Classifier.ipynb",
      "provenance": [],
      "authorship_tag": "ABX9TyOsy+WQsPDvz4oxXmMjNqE9"
    },
    "kernelspec": {
      "name": "python3",
      "display_name": "Python 3"
    },
    "accelerator": "GPU"
  },
  "cells": [
    {
      "cell_type": "code",
      "metadata": {
        "id": "7SjCAOCZAHJT",
        "colab_type": "code",
        "colab": {}
      },
      "source": [
        "# 다중 분류 (multiclass classifier)\n",
        "# 로이터 데이터 셋 이용 "
      ],
      "execution_count": null,
      "outputs": []
    },
    {
      "cell_type": "markdown",
      "metadata": {
        "id": "nMGJm-o5Agt5",
        "colab_type": "text"
      },
      "source": [
        "데이터 로드"
      ]
    },
    {
      "cell_type": "code",
      "metadata": {
        "id": "s7oYHDDaAhvK",
        "colab_type": "code",
        "colab": {
          "base_uri": "https://localhost:8080/",
          "height": 68
        },
        "outputId": "313284bf-acc8-49b3-e5b0-1b69bdb87779"
      },
      "source": [
        "from keras.datasets import reuters\n",
        "\n",
        "(train_data, train_labels),(test_data,test_labels) = reuters.load_data(num_words=10000)"
      ],
      "execution_count": 1,
      "outputs": [
        {
          "output_type": "stream",
          "text": [
            "Using TensorFlow backend.\n"
          ],
          "name": "stderr"
        },
        {
          "output_type": "stream",
          "text": [
            "Downloading data from https://s3.amazonaws.com/text-datasets/reuters.npz\n",
            "2113536/2110848 [==============================] - 1s 0us/step\n"
          ],
          "name": "stdout"
        }
      ]
    },
    {
      "cell_type": "code",
      "metadata": {
        "id": "5oseyZtTA2ZX",
        "colab_type": "code",
        "colab": {
          "base_uri": "https://localhost:8080/",
          "height": 34
        },
        "outputId": "d3d123f4-d901-47bb-faad-cc971b108aed"
      },
      "source": [
        "len(train_data)"
      ],
      "execution_count": 2,
      "outputs": [
        {
          "output_type": "execute_result",
          "data": {
            "text/plain": [
              "8982"
            ]
          },
          "metadata": {
            "tags": []
          },
          "execution_count": 2
        }
      ]
    },
    {
      "cell_type": "code",
      "metadata": {
        "id": "r5ueUjACA4LE",
        "colab_type": "code",
        "colab": {
          "base_uri": "https://localhost:8080/",
          "height": 34
        },
        "outputId": "214743a7-9ca3-49d1-bdef-f9a51f42fb6b"
      },
      "source": [
        "len(test_data)"
      ],
      "execution_count": 3,
      "outputs": [
        {
          "output_type": "execute_result",
          "data": {
            "text/plain": [
              "2246"
            ]
          },
          "metadata": {
            "tags": []
          },
          "execution_count": 3
        }
      ]
    },
    {
      "cell_type": "code",
      "metadata": {
        "id": "K_Nu4M1wA6ES",
        "colab_type": "code",
        "colab": {
          "base_uri": "https://localhost:8080/",
          "height": 544
        },
        "outputId": "34834042-fa95-436b-b342-1d777c427cc6"
      },
      "source": [
        "train_data[10]"
      ],
      "execution_count": 4,
      "outputs": [
        {
          "output_type": "execute_result",
          "data": {
            "text/plain": [
              "[1,\n",
              " 245,\n",
              " 273,\n",
              " 207,\n",
              " 156,\n",
              " 53,\n",
              " 74,\n",
              " 160,\n",
              " 26,\n",
              " 14,\n",
              " 46,\n",
              " 296,\n",
              " 26,\n",
              " 39,\n",
              " 74,\n",
              " 2979,\n",
              " 3554,\n",
              " 14,\n",
              " 46,\n",
              " 4689,\n",
              " 4329,\n",
              " 86,\n",
              " 61,\n",
              " 3499,\n",
              " 4795,\n",
              " 14,\n",
              " 61,\n",
              " 451,\n",
              " 4329,\n",
              " 17,\n",
              " 12]"
            ]
          },
          "metadata": {
            "tags": []
          },
          "execution_count": 4
        }
      ]
    },
    {
      "cell_type": "markdown",
      "metadata": {
        "id": "LtIYoUezBBe1",
        "colab_type": "text"
      },
      "source": [
        "로이터 데이터셋을 텍스트로 디코딩하기"
      ]
    },
    {
      "cell_type": "code",
      "metadata": {
        "id": "jPAIvKUSA-oz",
        "colab_type": "code",
        "colab": {
          "base_uri": "https://localhost:8080/",
          "height": 54
        },
        "outputId": "cfbe1f72-9b57-4ad6-c748-4963b71f0b93"
      },
      "source": [
        "word_index = reuters.get_word_index()\n",
        "reverse_word_index = dict([(value, key) for (key, value) in word_index.items()])\n",
        "decoded_newswire = ' '.join([reverse_word_index.get(i-3,'?') for i in train_data[0]])\n",
        "# 0,1,2 는 패딩,문서시작,사전에 없음 을 위한 인덱스 이므로 3을 뺀다. \n",
        "print(decoded_newswire)"
      ],
      "execution_count": 11,
      "outputs": [
        {
          "output_type": "stream",
          "text": [
            "? ? ? said as a result of its december acquisition of space co it expects earnings per share in 1987 of 1 15 to 1 30 dlrs per share up from 70 cts in 1986 the company said pretax net should rise to nine to 10 mln dlrs from six mln dlrs in 1986 and rental operation revenues to 19 to 22 mln dlrs from 12 5 mln dlrs it said cash flow per share this year should be 2 50 to three dlrs reuter 3\n"
          ],
          "name": "stdout"
        }
      ]
    },
    {
      "cell_type": "code",
      "metadata": {
        "id": "CADmxYIiBp2z",
        "colab_type": "code",
        "colab": {
          "base_uri": "https://localhost:8080/",
          "height": 34
        },
        "outputId": "cda4667b-6d9f-406d-9d90-e3b9b8977b5d"
      },
      "source": [
        "train_labels[10]"
      ],
      "execution_count": 7,
      "outputs": [
        {
          "output_type": "execute_result",
          "data": {
            "text/plain": [
              "3"
            ]
          },
          "metadata": {
            "tags": []
          },
          "execution_count": 7
        }
      ]
    },
    {
      "cell_type": "markdown",
      "metadata": {
        "id": "nPMUNVA9B9vL",
        "colab_type": "text"
      },
      "source": [
        "데이터 준비 "
      ]
    },
    {
      "cell_type": "code",
      "metadata": {
        "id": "3ogsz58VB8ZP",
        "colab_type": "code",
        "colab": {}
      },
      "source": [
        "import numpy as np \n",
        "# 데이터를 인코딩합니다. \n",
        "def vectorize_sequences(sequences, dimension = 10000):\n",
        "    results = np.zeros((len(sequences),dimension))\n",
        "    for i,sequence in enumerate(sequences):\n",
        "        results[i,sequence] = 1\n",
        "    return results\n",
        "\n",
        "x_train = vectorize_sequences(train_data) # 훈련 데이터 벡터 변환 \n",
        "x_test = vectorize_sequences(test_data) # 테스트 데이터 벡터 변환 "
      ],
      "execution_count": 13,
      "outputs": []
    },
    {
      "cell_type": "code",
      "metadata": {
        "id": "afaZzhmaC1zf",
        "colab_type": "code",
        "colab": {}
      },
      "source": [
        "#one-hot 인코딩 \n",
        "\n",
        "def to_one_hot(labels,dimension=46):\n",
        "    results = np.zeros((len(labels),dimension))\n",
        "    for i,label in enumerate(labels):\n",
        "        results[i,label] = 1\n",
        "    return results\n",
        "\n",
        "one_hot_train_labels = to_one_hot(train_labels)\n",
        "one_hot_test_labels = to_one_hot(test_labels)"
      ],
      "execution_count": 15,
      "outputs": []
    },
    {
      "cell_type": "code",
      "metadata": {
        "id": "UUbxt2mCD3QR",
        "colab_type": "code",
        "colab": {}
      },
      "source": [
        "#one-hot 인코딩 keras 내장 함수 \n",
        "from keras.utils.np_utils import to_categorical"
      ],
      "execution_count": 16,
      "outputs": []
    },
    {
      "cell_type": "markdown",
      "metadata": {
        "id": "paMAfjPGEMzm",
        "colab_type": "text"
      },
      "source": [
        "모델 구성"
      ]
    },
    {
      "cell_type": "code",
      "metadata": {
        "id": "orzC1e6aEL9D",
        "colab_type": "code",
        "colab": {}
      },
      "source": [
        "# 46개의 클래스를 분류하기 위해 규모가 큰 층을 사용 \n",
        "from keras import models \n",
        "from keras import layers\n",
        "\n",
        "model = models.Sequential()\n",
        "model.add(layers.Dense(64,activation='relu', input_shape=(10000,)))\n",
        "model.add(layers.Dense(64,activation='relu'))\n",
        "model.add(layers.Dense(46,activation='softmax')) \n",
        "# 46개의 클래스로 구분하기 때문에 출력층 46 \n",
        "\n",
        "\n",
        "model.compile(optimizer='rmsprop',\n",
        "              loss='categorical_crossentropy',\n",
        "              metrics=['accuracy'])\n",
        "\n",
        "# loss = \n",
        "# categorical_crossentropy or sparse_categorical_crossentropy"
      ],
      "execution_count": 18,
      "outputs": []
    },
    {
      "cell_type": "markdown",
      "metadata": {
        "id": "6AAKnASrFZU-",
        "colab_type": "text"
      },
      "source": [
        "훈련 검증\n"
      ]
    },
    {
      "cell_type": "code",
      "metadata": {
        "id": "uVj-mWvAFN9W",
        "colab_type": "code",
        "colab": {}
      },
      "source": [
        "x_val = x_train[:1000]\n",
        "partial_x_train = x_train[1000:]\n",
        "\n",
        "y_val = one_hot_train_labels[:1000]\n",
        "partial_y_train = one_hot_train_labels[1000:]"
      ],
      "execution_count": 19,
      "outputs": []
    },
    {
      "cell_type": "code",
      "metadata": {
        "id": "RQm3rLalFzB1",
        "colab_type": "code",
        "colab": {
          "base_uri": "https://localhost:8080/",
          "height": 714
        },
        "outputId": "11c8e01a-3876-42a0-f07c-54ed5dc809ca"
      },
      "source": [
        "history = model.fit(partial_x_train,\n",
        "                    partial_y_train,\n",
        "                    epochs = 20,\n",
        "                    batch_size = 512,\n",
        "                    validation_data=(x_val,y_val))"
      ],
      "execution_count": 20,
      "outputs": [
        {
          "output_type": "stream",
          "text": [
            "Train on 7982 samples, validate on 1000 samples\n",
            "Epoch 1/20\n",
            "7982/7982 [==============================] - 2s 274us/step - loss: 2.6708 - accuracy: 0.5174 - val_loss: 1.7735 - val_accuracy: 0.6410\n",
            "Epoch 2/20\n",
            "7982/7982 [==============================] - 1s 66us/step - loss: 1.4430 - accuracy: 0.7070 - val_loss: 1.3449 - val_accuracy: 0.7070\n",
            "Epoch 3/20\n",
            "7982/7982 [==============================] - 1s 64us/step - loss: 1.0653 - accuracy: 0.7720 - val_loss: 1.1530 - val_accuracy: 0.7470\n",
            "Epoch 4/20\n",
            "7982/7982 [==============================] - 1s 65us/step - loss: 0.8420 - accuracy: 0.8212 - val_loss: 1.0562 - val_accuracy: 0.7880\n",
            "Epoch 5/20\n",
            "7982/7982 [==============================] - 1s 64us/step - loss: 0.6722 - accuracy: 0.8603 - val_loss: 0.9687 - val_accuracy: 0.8010\n",
            "Epoch 6/20\n",
            "7982/7982 [==============================] - 1s 65us/step - loss: 0.5344 - accuracy: 0.8875 - val_loss: 0.9149 - val_accuracy: 0.8150\n",
            "Epoch 7/20\n",
            "7982/7982 [==============================] - 1s 66us/step - loss: 0.4297 - accuracy: 0.9103 - val_loss: 0.9292 - val_accuracy: 0.7970\n",
            "Epoch 8/20\n",
            "7982/7982 [==============================] - 1s 65us/step - loss: 0.3506 - accuracy: 0.9262 - val_loss: 0.8857 - val_accuracy: 0.8110\n",
            "Epoch 9/20\n",
            "7982/7982 [==============================] - 1s 64us/step - loss: 0.2872 - accuracy: 0.9377 - val_loss: 0.9069 - val_accuracy: 0.8120\n",
            "Epoch 10/20\n",
            "7982/7982 [==============================] - 1s 64us/step - loss: 0.2453 - accuracy: 0.9435 - val_loss: 0.9004 - val_accuracy: 0.8130\n",
            "Epoch 11/20\n",
            "7982/7982 [==============================] - 1s 63us/step - loss: 0.2060 - accuracy: 0.9490 - val_loss: 0.9123 - val_accuracy: 0.8130\n",
            "Epoch 12/20\n",
            "7982/7982 [==============================] - 1s 63us/step - loss: 0.1836 - accuracy: 0.9495 - val_loss: 0.9119 - val_accuracy: 0.8220\n",
            "Epoch 13/20\n",
            "7982/7982 [==============================] - 1s 63us/step - loss: 0.1649 - accuracy: 0.9535 - val_loss: 0.9524 - val_accuracy: 0.8080\n",
            "Epoch 14/20\n",
            "7982/7982 [==============================] - 1s 63us/step - loss: 0.1514 - accuracy: 0.9538 - val_loss: 0.9928 - val_accuracy: 0.8020\n",
            "Epoch 15/20\n",
            "7982/7982 [==============================] - 1s 64us/step - loss: 0.1423 - accuracy: 0.9565 - val_loss: 0.9599 - val_accuracy: 0.8060\n",
            "Epoch 16/20\n",
            "7982/7982 [==============================] - 0s 62us/step - loss: 0.1317 - accuracy: 0.9564 - val_loss: 0.9735 - val_accuracy: 0.8100\n",
            "Epoch 17/20\n",
            "7982/7982 [==============================] - 1s 63us/step - loss: 0.1286 - accuracy: 0.9563 - val_loss: 1.0323 - val_accuracy: 0.8070\n",
            "Epoch 18/20\n",
            "7982/7982 [==============================] - 1s 65us/step - loss: 0.1216 - accuracy: 0.9548 - val_loss: 1.0510 - val_accuracy: 0.7950\n",
            "Epoch 19/20\n",
            "7982/7982 [==============================] - 1s 63us/step - loss: 0.1171 - accuracy: 0.9567 - val_loss: 1.0295 - val_accuracy: 0.8020\n",
            "Epoch 20/20\n",
            "7982/7982 [==============================] - 1s 64us/step - loss: 0.1213 - accuracy: 0.9557 - val_loss: 1.0770 - val_accuracy: 0.7960\n"
          ],
          "name": "stdout"
        }
      ]
    },
    {
      "cell_type": "markdown",
      "metadata": {
        "id": "9OADp_QxIDZB",
        "colab_type": "text"
      },
      "source": [
        "훈련과 검증 손실 그리기"
      ]
    },
    {
      "cell_type": "code",
      "metadata": {
        "id": "V_qClNNiGBng",
        "colab_type": "code",
        "colab": {
          "base_uri": "https://localhost:8080/",
          "height": 295
        },
        "outputId": "8f039371-206c-4e4a-ae80-920a1d0cdde9"
      },
      "source": [
        "import matplotlib.pyplot as plt\n",
        "\n",
        "loss = history.history['loss']\n",
        "val_loss = history.history['val_loss']\n",
        "\n",
        "epochs = range(1,len(loss) + 1)\n",
        "\n",
        "plt.plot(epochs,loss, 'bo' , label = 'Training loss')\n",
        "plt.plot(epochs, val_loss, 'b', label = 'Validation loss')\n",
        "plt.title('Training and validation loss')\n",
        "plt.xlabel('Epochs')\n",
        "plt.ylabel('Loss')\n",
        "plt.legend()\n",
        "plt.show()"
      ],
      "execution_count": 21,
      "outputs": [
        {
          "output_type": "display_data",
          "data": {
            "image/png": "[encoded data removed]",
            "text/plain": [
              "<Figure size 432x288 with 1 Axes>"
            ]
          },
          "metadata": {
            "tags": [],
            "needs_background": "light"
          }
        }
      ]
    },
    {
      "cell_type": "markdown",
      "metadata": {
        "id": "13ggYmQ9IKE9",
        "colab_type": "text"
      },
      "source": [
        "결과"
      ]
    },
    {
      "cell_type": "code",
      "metadata": {
        "id": "vcRYWWfWH0qI",
        "colab_type": "code",
        "colab": {
          "base_uri": "https://localhost:8080/",
          "height": 34
        },
        "outputId": "ea72ce3b-591e-40d0-ee83-1674cbc30af0"
      },
      "source": [
        "results = model.evaluate(x_test,one_hot_test_labels)"
      ],
      "execution_count": 25,
      "outputs": [
        {
          "output_type": "stream",
          "text": [
            "2246/2246 [==============================] - 0s 116us/step\n"
          ],
          "name": "stdout"
        }
      ]
    },
    {
      "cell_type": "code",
      "metadata": {
        "id": "VX5bibtpH7-J",
        "colab_type": "code",
        "colab": {
          "base_uri": "https://localhost:8080/",
          "height": 34
        },
        "outputId": "fcc0bb34-0f08-43e2-d0a2-f1425622673e"
      },
      "source": [
        "results # 약 78% 정확도 "
      ],
      "execution_count": 26,
      "outputs": [
        {
          "output_type": "execute_result",
          "data": {
            "text/plain": [
              "[1.1948666400603705, 0.7787176966667175]"
            ]
          },
          "metadata": {
            "tags": []
          },
          "execution_count": 26
        }
      ]
    },
    {
      "cell_type": "code",
      "metadata": {
        "id": "qjI9PPvcIQBQ",
        "colab_type": "code",
        "colab": {}
      },
      "source": [
        "predictions = model.predict(x_test)"
      ],
      "execution_count": 27,
      "outputs": []
    },
    {
      "cell_type": "code",
      "metadata": {
        "id": "f39fZWrDIVbj",
        "colab_type": "code",
        "colab": {
          "base_uri": "https://localhost:8080/",
          "height": 34
        },
        "outputId": "f11d0484-b578-4c2a-cc4c-256d0cbbb669"
      },
      "source": [
        "predictions[0].shape"
      ],
      "execution_count": 28,
      "outputs": [
        {
          "output_type": "execute_result",
          "data": {
            "text/plain": [
              "(46,)"
            ]
          },
          "metadata": {
            "tags": []
          },
          "execution_count": 28
        }
      ]
    },
    {
      "cell_type": "code",
      "metadata": {
        "id": "47nN4sUiIY9B",
        "colab_type": "code",
        "colab": {
          "base_uri": "https://localhost:8080/",
          "height": 34
        },
        "outputId": "f2c34622-6529-48c5-deba-ba2eaae9cf1b"
      },
      "source": [
        "np.sum(predictions[0])"
      ],
      "execution_count": 29,
      "outputs": [
        {
          "output_type": "execute_result",
          "data": {
            "text/plain": [
              "1.0"
            ]
          },
          "metadata": {
            "tags": []
          },
          "execution_count": 29
        }
      ]
    },
    {
      "cell_type": "code",
      "metadata": {
        "id": "4iOz18UeIdby",
        "colab_type": "code",
        "colab": {
          "base_uri": "https://localhost:8080/",
          "height": 34
        },
        "outputId": "384dd324-bb44-41fd-e85b-f96fa632aafc"
      },
      "source": [
        "np.argmax(predictions[0])"
      ],
      "execution_count": 30,
      "outputs": [
        {
          "output_type": "execute_result",
          "data": {
            "text/plain": [
              "3"
            ]
          },
          "metadata": {
            "tags": []
          },
          "execution_count": 30
        }
      ]
    }
  ]
}