{
  "nbformat": 4,
  "nbformat_minor": 0,
  "metadata": {
    "colab": {
      "name": "Tensor_Operation.ipynb",
      "provenance": [],
      "authorship_tag": "ABX9TyOtt3MLtxm3hlkq7poKb+ui"
    },
    "kernelspec": {
      "name": "python3",
      "display_name": "Python 3"
    }
  },
  "cells": [
    {
      "cell_type": "code",
      "metadata": {
        "id": "OmCoiMH3ejaG",
        "colab_type": "code",
        "colab": {}
      },
      "source": [
        "#layer / Dense 층으로 신경망을 구성한다. \n",
        "#keras.layers.Dense(512,activation='relu')"
      ],
      "execution_count": null,
      "outputs": []
    },
    {
      "cell_type": "code",
      "metadata": {
        "id": "Ac8HJmJ-fEa-",
        "colab_type": "code",
        "colab": {}
      },
      "source": [
        "def naive_relu(x):\n",
        "    assert len(x.shape) == 2\n",
        "\n",
        "    x = x.copy()\n",
        "    for i in range(x.shape[0]):\n",
        "        for j in range(x.shape[1]):\n",
        "            x[i,j] = max(x[i,j],0)\n",
        "    return x"
      ],
      "execution_count": 2,
      "outputs": []
    },
    {
      "cell_type": "code",
      "metadata": {
        "id": "VZNLedyzg3dR",
        "colab_type": "code",
        "colab": {}
      },
      "source": [
        "def naive_add(x,y):\n",
        "    assert len(x.shape) == 2\n",
        "    assert x.shape == y.shape\n",
        "\n",
        "    x = x.copy()\n",
        "    for i in range(x.shape[0]):\n",
        "        for j in range(x.shape[1]):\n",
        "            x[i,j] += y[i,j]\n",
        "    \n",
        "    return x"
      ],
      "execution_count": 4,
      "outputs": []
    },
    {
      "cell_type": "code",
      "metadata": {
        "id": "ucGQREc8hbos",
        "colab_type": "code",
        "colab": {}
      },
      "source": [
        "# 원소별 연산 처리 \n",
        "import numpy as np\n",
        "z = x+y\n",
        "z = np.maximum(z,0.)"
      ],
      "execution_count": null,
      "outputs": []
    },
    {
      "cell_type": "code",
      "metadata": {
        "id": "g4CJ3-npiHDq",
        "colab_type": "code",
        "colab": {}
      },
      "source": [
        "# dense \n",
        "def naive_add_matrix_and_vector(x,y):\n",
        "    assert len(x.shape) == 2\n",
        "    assert len(y.shape) == 1\n",
        "    assert x.shape[1] == y.shape[0]\n",
        "\n",
        "    x = x.copy()\n",
        "    for i in range(x.shape[0]):\n",
        "        for j in range(x.shape[1]):\n",
        "            x[i,j] += y[i]\n",
        "    return x\n",
        "    "
      ],
      "execution_count": 5,
      "outputs": []
    }
  ]
}