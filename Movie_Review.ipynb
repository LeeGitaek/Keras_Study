{
  "nbformat": 4,
  "nbformat_minor": 0,
  "metadata": {
    "colab": {
      "name": "Movie_Review.ipynb",
      "provenance": [],
      "authorship_tag": "ABX9TyOKW8NuprwF/SBQBln0yh43"
    },
    "kernelspec": {
      "name": "python3",
      "display_name": "Python 3"
    }
  },
  "cells": [
    {
      "cell_type": "code",
      "metadata": {
        "id": "CG5sX-GV8hp6",
        "colab_type": "code",
        "colab": {
          "base_uri": "https://localhost:8080/",
          "height": 68
        },
        "outputId": "c1bc31ea-3c97-4fb5-ef1f-8fbfe79d9330"
      },
      "source": [
        "from keras.datasets import imdb\n",
        "\n",
        "(train_data, train_labels),(test_data,test_labels) = imdb.load_data(num_words=10000) \n",
        "# num_words 매개변수는 훈련 데이터에서 가장 자주 나타나는 단어 1만개를 사용하겠다는 의미이다.\n",
        "# 적절한 크기의 벡터 데이터를 얻을 수 있음.\n",
        " "
      ],
      "execution_count": 2,
      "outputs": [
        {
          "output_type": "stream",
          "text": [
            "Using TensorFlow backend.\n"
          ],
          "name": "stderr"
        },
        {
          "output_type": "stream",
          "text": [
            "Downloading data from https://s3.amazonaws.com/text-datasets/imdb.npz\n",
            "17465344/17464789 [==============================] - 0s 0us/step\n"
          ],
          "name": "stdout"
        }
      ]
    },
    {
      "cell_type": "code",
      "metadata": {
        "id": "jw4XB9Ye9Saf",
        "colab_type": "code",
        "colab": {
          "base_uri": "https://localhost:8080/",
          "height": 1000
        },
        "outputId": "ee3a9dc9-e515-4f9a-f2a6-592e23bd1ca9"
      },
      "source": [
        "train_data[0]"
      ],
      "execution_count": 3,
      "outputs": [
        {
          "output_type": "execute_result",
          "data": {
            "text/plain": [
              "[1,\n",
              " 14,\n",
              " 22,\n",
              " 16,\n",
              " 43,\n",
              " 530,\n",
              " 973,\n",
              " 1622,\n",
              " 1385,\n",
              " 65,\n",
              " 458,\n",
              " 4468,\n",
              " 66,\n",
              " 3941,\n",
              " 4,\n",
              " 173,\n",
              " 36,\n",
              " 256,\n",
              " 5,\n",
              " 25,\n",
              " 100,\n",
              " 43,\n",
              " 838,\n",
              " 112,\n",
              " 50,\n",
              " 670,\n",
              " 2,\n",
              " 9,\n",
              " 35,\n",
              " 480,\n",
              " 284,\n",
              " 5,\n",
              " 150,\n",
              " 4,\n",
              " 172,\n",
              " 112,\n",
              " 167,\n",
              " 2,\n",
              " 336,\n",
              " 385,\n",
              " 39,\n",
              " 4,\n",
              " 172,\n",
              " 4536,\n",
              " 1111,\n",
              " 17,\n",
              " 546,\n",
              " 38,\n",
              " 13,\n",
              " 447,\n",
              " 4,\n",
              " 192,\n",
              " 50,\n",
              " 16,\n",
              " 6,\n",
              " 147,\n",
              " 2025,\n",
              " 19,\n",
              " 14,\n",
              " 22,\n",
              " 4,\n",
              " 1920,\n",
              " 4613,\n",
              " 469,\n",
              " 4,\n",
              " 22,\n",
              " 71,\n",
              " 87,\n",
              " 12,\n",
              " 16,\n",
              " 43,\n",
              " 530,\n",
              " 38,\n",
              " 76,\n",
              " 15,\n",
              " 13,\n",
              " 1247,\n",
              " 4,\n",
              " 22,\n",
              " 17,\n",
              " 515,\n",
              " 17,\n",
              " 12,\n",
              " 16,\n",
              " 626,\n",
              " 18,\n",
              " 2,\n",
              " 5,\n",
              " 62,\n",
              " 386,\n",
              " 12,\n",
              " 8,\n",
              " 316,\n",
              " 8,\n",
              " 106,\n",
              " 5,\n",
              " 4,\n",
              " 2223,\n",
              " 5244,\n",
              " 16,\n",
              " 480,\n",
              " 66,\n",
              " 3785,\n",
              " 33,\n",
              " 4,\n",
              " 130,\n",
              " 12,\n",
              " 16,\n",
              " 38,\n",
              " 619,\n",
              " 5,\n",
              " 25,\n",
              " 124,\n",
              " 51,\n",
              " 36,\n",
              " 135,\n",
              " 48,\n",
              " 25,\n",
              " 1415,\n",
              " 33,\n",
              " 6,\n",
              " 22,\n",
              " 12,\n",
              " 215,\n",
              " 28,\n",
              " 77,\n",
              " 52,\n",
              " 5,\n",
              " 14,\n",
              " 407,\n",
              " 16,\n",
              " 82,\n",
              " 2,\n",
              " 8,\n",
              " 4,\n",
              " 107,\n",
              " 117,\n",
              " 5952,\n",
              " 15,\n",
              " 256,\n",
              " 4,\n",
              " 2,\n",
              " 7,\n",
              " 3766,\n",
              " 5,\n",
              " 723,\n",
              " 36,\n",
              " 71,\n",
              " 43,\n",
              " 530,\n",
              " 476,\n",
              " 26,\n",
              " 400,\n",
              " 317,\n",
              " 46,\n",
              " 7,\n",
              " 4,\n",
              " 2,\n",
              " 1029,\n",
              " 13,\n",
              " 104,\n",
              " 88,\n",
              " 4,\n",
              " 381,\n",
              " 15,\n",
              " 297,\n",
              " 98,\n",
              " 32,\n",
              " 2071,\n",
              " 56,\n",
              " 26,\n",
              " 141,\n",
              " 6,\n",
              " 194,\n",
              " 7486,\n",
              " 18,\n",
              " 4,\n",
              " 226,\n",
              " 22,\n",
              " 21,\n",
              " 134,\n",
              " 476,\n",
              " 26,\n",
              " 480,\n",
              " 5,\n",
              " 144,\n",
              " 30,\n",
              " 5535,\n",
              " 18,\n",
              " 51,\n",
              " 36,\n",
              " 28,\n",
              " 224,\n",
              " 92,\n",
              " 25,\n",
              " 104,\n",
              " 4,\n",
              " 226,\n",
              " 65,\n",
              " 16,\n",
              " 38,\n",
              " 1334,\n",
              " 88,\n",
              " 12,\n",
              " 16,\n",
              " 283,\n",
              " 5,\n",
              " 16,\n",
              " 4472,\n",
              " 113,\n",
              " 103,\n",
              " 32,\n",
              " 15,\n",
              " 16,\n",
              " 5345,\n",
              " 19,\n",
              " 178,\n",
              " 32]"
            ]
          },
          "metadata": {
            "tags": []
          },
          "execution_count": 3
        }
      ]
    },
    {
      "cell_type": "code",
      "metadata": {
        "id": "DTVdsxdn9Y0q",
        "colab_type": "code",
        "colab": {
          "base_uri": "https://localhost:8080/",
          "height": 34
        },
        "outputId": "d3410a2d-3371-4635-d2a5-15b526bbdfb9"
      },
      "source": [
        "train_labels[0]\n",
        "# negative = 0 / positive = 1  "
      ],
      "execution_count": 4,
      "outputs": [
        {
          "output_type": "execute_result",
          "data": {
            "text/plain": [
              "1"
            ]
          },
          "metadata": {
            "tags": []
          },
          "execution_count": 4
        }
      ]
    },
    {
      "cell_type": "code",
      "metadata": {
        "id": "Lh2Xu2Tz9ehZ",
        "colab_type": "code",
        "colab": {
          "base_uri": "https://localhost:8080/",
          "height": 34
        },
        "outputId": "53a92fe8-b4e5-493f-e9a4-4fca4cfe7ea4"
      },
      "source": [
        "max([max(sequence) for sequence in train_data])\n",
        "# index is 9,999 / num_words = 10,000"
      ],
      "execution_count": 5,
      "outputs": [
        {
          "output_type": "execute_result",
          "data": {
            "text/plain": [
              "9999"
            ]
          },
          "metadata": {
            "tags": []
          },
          "execution_count": 5
        }
      ]
    },
    {
      "cell_type": "code",
      "metadata": {
        "id": "3Z8TOXbN998L",
        "colab_type": "code",
        "colab": {
          "base_uri": "https://localhost:8080/",
          "height": 51
        },
        "outputId": "f4b6a90e-ae95-429d-8ece-5fadde641832"
      },
      "source": [
        "word_index = imdb.get_word_index()\n",
        "reverse_word_index = dict(\n",
        "    [(value, key) for (key , value) in word_index.items()]\n",
        ")\n",
        "\n",
        "decoded_review = ' '.join(\n",
        "    [reverse_word_index.get(i-3,'?') for i in train_data[0]]\n",
        ")\n"
      ],
      "execution_count": 6,
      "outputs": [
        {
          "output_type": "stream",
          "text": [
            "Downloading data from https://s3.amazonaws.com/text-datasets/imdb_word_index.json\n",
            "1646592/1641221 [==============================] - 0s 0us/step\n"
          ],
          "name": "stdout"
        }
      ]
    },
    {
      "cell_type": "code",
      "metadata": {
        "id": "3RNgKjY3_JHg",
        "colab_type": "code",
        "colab": {
          "base_uri": "https://localhost:8080/",
          "height": 34
        },
        "outputId": "a9674d2c-247e-47c1-c27e-8149371aaf29"
      },
      "source": [
        "import numpy as np \n",
        "\n",
        "def vectorize_sequences(sequences, dimension=10000):\n",
        "    results = np.zeros((len(sequences),dimension)) # all zero \n",
        "\n",
        "    for i, sequence in enumerate(sequences):\n",
        "        results[i,sequence] = 1\n",
        "    return results\n",
        "\n",
        "x_train = vectorize_sequences(train_data)\n",
        "# change train data to vector\n",
        "x_test = vectorize_sequences(test_data)\n",
        "# change test data to vector \n",
        "\n",
        "x_train[0]\n"
      ],
      "execution_count": 7,
      "outputs": [
        {
          "output_type": "execute_result",
          "data": {
            "text/plain": [
              "array([0., 1., 1., ..., 0., 0., 0.])"
            ]
          },
          "metadata": {
            "tags": []
          },
          "execution_count": 7
        }
      ]
    },
    {
      "cell_type": "code",
      "metadata": {
        "id": "X1TZ-XaWAkQ5",
        "colab_type": "code",
        "colab": {}
      },
      "source": [
        "y_train = np.asarray(train_labels).astype('float32')\n",
        "y_test = np.asarray(test_labels).astype('float32')\n"
      ],
      "execution_count": 8,
      "outputs": []
    },
    {
      "cell_type": "code",
      "metadata": {
        "id": "-7JvdU93Bo2q",
        "colab_type": "code",
        "colab": {}
      },
      "source": [
        "x_val = x_train[:10000]\n",
        "partial_x_train = x_train[10000:]\n",
        "y_val = y_train[:10000]\n",
        "partial_y_train = y_train[10000:]"
      ],
      "execution_count": 9,
      "outputs": []
    },
    {
      "cell_type": "code",
      "metadata": {
        "id": "lHoN_9rdA0ok",
        "colab_type": "code",
        "colab": {}
      },
      "source": [
        "from keras import models\n",
        "from keras import layers\n",
        "from keras import optimizers\n",
        "from keras import losses\n",
        "from keras import metrics \n",
        "model = models.Sequential()\n",
        "model.add(layers.Dense(16,activation='relu', input_shape=(10000,)))\n",
        "model.add(layers.Dense(16,activation='relu'))\n",
        "model.add(layers.Dense(1,activation='sigmoid'))\n",
        "\n",
        "model.compile(optimizer=optimizers.RMSprop(lr=0.001),\n",
        "              loss=losses.binary_crossentropy,\n",
        "              metrics=[metrics.binary_accuracy])"
      ],
      "execution_count": 11,
      "outputs": []
    },
    {
      "cell_type": "code",
      "metadata": {
        "id": "vhZi7iF0Cvph",
        "colab_type": "code",
        "colab": {
          "base_uri": "https://localhost:8080/",
          "height": 714
        },
        "outputId": "2467661b-9e22-43dd-b67a-b33a7ee74f48"
      },
      "source": [
        "history = model.fit(partial_x_train,\n",
        "                    partial_y_train,\n",
        "                    epochs= 20,\n",
        "                    batch_size = 512,\n",
        "                    validation_data = (x_val,y_val))"
      ],
      "execution_count": 12,
      "outputs": [
        {
          "output_type": "stream",
          "text": [
            "Train on 15000 samples, validate on 10000 samples\n",
            "Epoch 1/20\n",
            "15000/15000 [==============================] - 2s 117us/step - loss: 0.5303 - binary_accuracy: 0.7855 - val_loss: 0.4116 - val_binary_accuracy: 0.8677\n",
            "Epoch 2/20\n",
            "15000/15000 [==============================] - 1s 95us/step - loss: 0.3301 - binary_accuracy: 0.9028 - val_loss: 0.3269 - val_binary_accuracy: 0.8810\n",
            "Epoch 3/20\n",
            "15000/15000 [==============================] - 1s 93us/step - loss: 0.2429 - binary_accuracy: 0.9265 - val_loss: 0.2866 - val_binary_accuracy: 0.8904\n",
            "Epoch 4/20\n",
            "15000/15000 [==============================] - 1s 93us/step - loss: 0.1908 - binary_accuracy: 0.9406 - val_loss: 0.2803 - val_binary_accuracy: 0.8881\n",
            "Epoch 5/20\n",
            "15000/15000 [==============================] - 1s 95us/step - loss: 0.1560 - binary_accuracy: 0.9510 - val_loss: 0.2891 - val_binary_accuracy: 0.8851\n",
            "Epoch 6/20\n",
            "15000/15000 [==============================] - 1s 93us/step - loss: 0.1282 - binary_accuracy: 0.9619 - val_loss: 0.2943 - val_binary_accuracy: 0.8844\n",
            "Epoch 7/20\n",
            "15000/15000 [==============================] - 1s 94us/step - loss: 0.1067 - binary_accuracy: 0.9701 - val_loss: 0.3166 - val_binary_accuracy: 0.8802\n",
            "Epoch 8/20\n",
            "15000/15000 [==============================] - 1s 94us/step - loss: 0.0889 - binary_accuracy: 0.9765 - val_loss: 0.3159 - val_binary_accuracy: 0.8833\n",
            "Epoch 9/20\n",
            "15000/15000 [==============================] - 1s 94us/step - loss: 0.0720 - binary_accuracy: 0.9835 - val_loss: 0.3280 - val_binary_accuracy: 0.8787\n",
            "Epoch 10/20\n",
            "15000/15000 [==============================] - 1s 94us/step - loss: 0.0597 - binary_accuracy: 0.9868 - val_loss: 0.3635 - val_binary_accuracy: 0.8779\n",
            "Epoch 11/20\n",
            "15000/15000 [==============================] - 2s 127us/step - loss: 0.0469 - binary_accuracy: 0.9913 - val_loss: 0.3715 - val_binary_accuracy: 0.8790\n",
            "Epoch 12/20\n",
            "15000/15000 [==============================] - 2s 132us/step - loss: 0.0377 - binary_accuracy: 0.9939 - val_loss: 0.3986 - val_binary_accuracy: 0.8763\n",
            "Epoch 13/20\n",
            "15000/15000 [==============================] - 2s 110us/step - loss: 0.0305 - binary_accuracy: 0.9951 - val_loss: 0.4560 - val_binary_accuracy: 0.8658\n",
            "Epoch 14/20\n",
            "15000/15000 [==============================] - 1s 95us/step - loss: 0.0243 - binary_accuracy: 0.9969 - val_loss: 0.4722 - val_binary_accuracy: 0.8682\n",
            "Epoch 15/20\n",
            "15000/15000 [==============================] - 1s 94us/step - loss: 0.0171 - binary_accuracy: 0.9981 - val_loss: 0.4913 - val_binary_accuracy: 0.8698\n",
            "Epoch 16/20\n",
            "15000/15000 [==============================] - 1s 93us/step - loss: 0.0144 - binary_accuracy: 0.9982 - val_loss: 0.5200 - val_binary_accuracy: 0.8700\n",
            "Epoch 17/20\n",
            "15000/15000 [==============================] - 1s 93us/step - loss: 0.0115 - binary_accuracy: 0.9986 - val_loss: 0.5444 - val_binary_accuracy: 0.8689\n",
            "Epoch 18/20\n",
            "15000/15000 [==============================] - 1s 93us/step - loss: 0.0063 - binary_accuracy: 0.9997 - val_loss: 0.5872 - val_binary_accuracy: 0.8650\n",
            "Epoch 19/20\n",
            "15000/15000 [==============================] - 1s 94us/step - loss: 0.0060 - binary_accuracy: 0.9996 - val_loss: 0.6105 - val_binary_accuracy: 0.8671\n",
            "Epoch 20/20\n",
            "15000/15000 [==============================] - 1s 93us/step - loss: 0.0066 - binary_accuracy: 0.9991 - val_loss: 0.6435 - val_binary_accuracy: 0.8644\n"
          ],
          "name": "stdout"
        }
      ]
    },
    {
      "cell_type": "code",
      "metadata": {
        "id": "CEs3WHxvC8vI",
        "colab_type": "code",
        "colab": {}
      },
      "source": [
        "history_dict = history.history"
      ],
      "execution_count": 13,
      "outputs": []
    },
    {
      "cell_type": "code",
      "metadata": {
        "id": "X6175vJ4DBMe",
        "colab_type": "code",
        "colab": {
          "base_uri": "https://localhost:8080/",
          "height": 34
        },
        "outputId": "b38da171-49ce-447d-affe-873f927bf151"
      },
      "source": [
        "history_dict.keys()"
      ],
      "execution_count": 14,
      "outputs": [
        {
          "output_type": "execute_result",
          "data": {
            "text/plain": [
              "dict_keys(['val_loss', 'val_binary_accuracy', 'loss', 'binary_accuracy'])"
            ]
          },
          "metadata": {
            "tags": []
          },
          "execution_count": 14
        }
      ]
    },
    {
      "cell_type": "code",
      "metadata": {
        "id": "-P6JEUVuDVo4",
        "colab_type": "code",
        "colab": {
          "base_uri": "https://localhost:8080/",
          "height": 295
        },
        "outputId": "90ef53b9-5fc7-4a24-8b8b-3f83dbc80143"
      },
      "source": [
        "# add graph / add prediction \n",
        "\n",
        "import matplotlib.pyplot as plt\n",
        "\n",
        "history_dict = history.history\n",
        "loss = history_dict['loss']\n",
        "val_loss = history_dict['val_loss']\n",
        "epochs = range(1,len(loss)+1)\n",
        "\n",
        "\n",
        "plt.plot(epochs,loss,'bo',label = 'training loss')\n",
        "plt.plot(epochs,val_loss,'b',label= 'Validation loss')\n",
        "plt.title('Training and validation loss')\n",
        "plt.xlabel('Epochs')\n",
        "plt.ylabel('Loss')\n",
        "plt.legend()\n",
        "plt.show()"
      ],
      "execution_count": 15,
      "outputs": [
        {
          "output_type": "display_data",
          "data": {
            "image/png": "[encoded data removed]",
            "text/plain": [
              "<Figure size 432x288 with 1 Axes>"
            ]
          },
          "metadata": {
            "tags": [],
            "needs_background": "light"
          }
        }
      ]
    },
    {
      "cell_type": "code",
      "metadata": {
        "id": "6ECWSI0QzAh9",
        "colab_type": "code",
        "colab": {
          "base_uri": "https://localhost:8080/",
          "height": 51
        },
        "outputId": "eaae87d5-11dd-4c57-aec5-80e326e3ab30"
      },
      "source": [
        "result = model.evaluate(x_test,y_test)\n",
        "result\n",
        "\n",
        "#accuracy : 85% "
      ],
      "execution_count": 20,
      "outputs": [
        {
          "output_type": "stream",
          "text": [
            "25000/25000 [==============================] - 2s 78us/step\n"
          ],
          "name": "stdout"
        },
        {
          "output_type": "execute_result",
          "data": {
            "text/plain": [
              "[0.6997141731595993, 0.8508800268173218]"
            ]
          },
          "metadata": {
            "tags": []
          },
          "execution_count": 20
        }
      ]
    },
    {
      "cell_type": "code",
      "metadata": {
        "id": "CKQQRFJ5y29l",
        "colab_type": "code",
        "colab": {
          "base_uri": "https://localhost:8080/",
          "height": 136
        },
        "outputId": "f4536084-1671-4680-892d-8eba933f541b"
      },
      "source": [
        "model.predict(x_test)"
      ],
      "execution_count": 21,
      "outputs": [
        {
          "output_type": "execute_result",
          "data": {
            "text/plain": [
              "array([[0.01199913],\n",
              "       [0.99999917],\n",
              "       [0.9974355 ],\n",
              "       ...,\n",
              "       [0.01257846],\n",
              "       [0.02372041],\n",
              "       [0.6990753 ]], dtype=float32)"
            ]
          },
          "metadata": {
            "tags": []
          },
          "execution_count": 21
        }
      ]
    }
  ]
}